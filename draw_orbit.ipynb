{
 "cells": [
  {
   "cell_type": "code",
   "execution_count": 1,
   "id": "3fcaf9e3",
   "metadata": {},
   "outputs": [],
   "source": [
    "from pathlib import Path\n",
    "import matplotlib.pyplot as plt\n",
    "import pandas as pd"
   ]
  },
  {
   "cell_type": "code",
   "execution_count": 2,
   "id": "73ff1a24",
   "metadata": {},
   "outputs": [],
   "source": [
    "csv_dir = Path('./data')"
   ]
  },
  {
   "cell_type": "code",
   "execution_count": 6,
   "id": "7b4cd523",
   "metadata": {},
   "outputs": [
    {
     "name": "stdout",
     "output_type": "stream",
     "text": [
      "data/Take 2022-01-07 08.22.30 PM_018.csv\n",
      "data/Take 2022-01-07 08.22.30 PM_019.csv\n",
      "data/Take 2022-01-07 08.22.30 PM_020.csv\n",
      "data/Take 2022-01-07 08.22.30 PM_021.csv\n",
      "data/Take 2022-01-07 08.22.30 PM_022.csv\n",
      "data/Take 2022-01-07 08.22.30 PM_023.csv\n",
      "data/Take 2022-01-07 08.22.30 PM_024.csv\n",
      "data/Take 2022-01-07 08.22.30 PM_025.csv\n",
      "data/Take 2022-01-07 08.22.30 PM_026.csv\n"
     ]
    }
   ],
   "source": [
    "for path in sorted(csv_dir.iterdir()):\n",
    "    print(path)"
   ]
  },
  {
   "cell_type": "code",
   "execution_count": 7,
   "id": "df1d8885",
   "metadata": {},
   "outputs": [],
   "source": [
    "plt.xlim(-1, 1)\n",
    "plt.ylim(0, 2)\n",
    "for path in sorted(csv_dir.iterdir()):\n",
    "    df = pd.read_csv(path, header=None)\n",
    "    for index, data in df.iterrows():\n",
    "        for i in range(2, len(data), 3):\n",
    "            if not pd.isnull(data[i]):\n",
    "                plt.scatter(data[i+2], data[i+1], s=5)\n",
    "plt.savefig('./images/orbit.png')\n",
    "plt.clf()\n",
    "plt.close()"
   ]
  },
  {
   "cell_type": "code",
   "execution_count": null,
   "id": "9aa9a84a",
   "metadata": {},
   "outputs": [],
   "source": []
  }
 ],
 "metadata": {
  "kernelspec": {
   "display_name": "Python 3",
   "language": "python",
   "name": "python3"
  },
  "language_info": {
   "codemirror_mode": {
    "name": "ipython",
    "version": 3
   },
   "file_extension": ".py",
   "mimetype": "text/x-python",
   "name": "python",
   "nbconvert_exporter": "python",
   "pygments_lexer": "ipython3",
   "version": "3.8.8"
  }
 },
 "nbformat": 4,
 "nbformat_minor": 5
}
